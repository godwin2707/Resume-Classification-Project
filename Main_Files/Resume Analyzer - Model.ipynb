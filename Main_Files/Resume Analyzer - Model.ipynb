{
 "cells": [
  {
   "cell_type": "code",
   "execution_count": 40,
   "metadata": {},
   "outputs": [
    {
     "name": "stderr",
     "output_type": "stream",
     "text": [
      "[nltk_data] Downloading package stopwords to\n",
      "[nltk_data]     C:\\Users\\GODWIN\\AppData\\Roaming\\nltk_data...\n",
      "[nltk_data]   Package stopwords is already up-to-date!\n"
     ]
    },
    {
     "data": {
      "text/plain": [
       "True"
      ]
     },
     "execution_count": 40,
     "metadata": {},
     "output_type": "execute_result"
    }
   ],
   "source": [
    "#Libraries\n",
    "import pandas as pd #For handling the dataset\n",
    "from sklearn.neighbors import KNeighborsClassifier # The classification model I choosen\n",
    "from sklearn.metrics import accuracy_score # To find out the accuracy of the model\n",
    "from sklearn.feature_extraction.text import TfidfVectorizer # For converting the text into numeric why TfidfVectorizer bcoz it gives weight to unique words\n",
    "from sklearn.model_selection import train_test_split # To split and train the model\n",
    "from sklearn.multiclass import OneVsRestClassifier # To create multiple binary classification\n",
    "import pickle # To create Pickle file(.pkl) inorder to deploy into the web application\n",
    "import re # To clean the dataset\n",
    "import string # To import the text into the clean_text function\n",
    "import nltk \n",
    "from nltk.corpus import stopwords # To remove stopwords\n",
    "from sklearn.preprocessing import LabelEncoder # For encoding the labelled data\n",
    "nltk.download('stopwords')\n",
    "\n"
   ]
  },
  {
   "cell_type": "code",
   "execution_count": 41,
   "metadata": {},
   "outputs": [
    {
     "name": "stderr",
     "output_type": "stream",
     "text": [
      "<>:2: SyntaxWarning: invalid escape sequence '\\P'\n",
      "<>:2: SyntaxWarning: invalid escape sequence '\\P'\n",
      "C:\\Users\\GODWIN\\AppData\\Local\\Temp\\ipykernel_20896\\974931688.py:2: SyntaxWarning: invalid escape sequence '\\P'\n",
      "  dataset=pd.read_csv(\"D:\\Projects\\Resume Classifer\\Resume Dataset.csv\")\n"
     ]
    },
    {
     "data": {
      "text/plain": [
       "0      Skills * Programming Languages: Python (pandas...\n",
       "1      Education Details \\r\\nMay 2013 to May 2017 B.E...\n",
       "2      Areas of Interest Deep Learning, Control Syste...\n",
       "3      Skills â¢ R â¢ Python â¢ SAP HANA â¢ Table...\n",
       "4      Education Details \\r\\n MCA   YMCAUST,  Faridab...\n",
       "                             ...                        \n",
       "957    Computer Skills: â¢ Proficient in MS office (...\n",
       "958    â Willingness to accept the challenges. â ...\n",
       "959    PERSONAL SKILLS â¢ Quick learner, â¢ Eagerne...\n",
       "960    COMPUTER SKILLS & SOFTWARE KNOWLEDGE MS-Power ...\n",
       "961    Skill Set OS Windows XP/7/8/8.1/10 Database MY...\n",
       "Name: Resume, Length: 962, dtype: object"
      ]
     },
     "execution_count": 41,
     "metadata": {},
     "output_type": "execute_result"
    }
   ],
   "source": [
    "#Importing the dataset\n",
    "dataset=pd.read_csv(\"D:\\Projects\\Resume Classifer\\Resume Dataset.csv\")\n",
    "df=pd.DataFrame(dataset)\n",
    "df[\"Resume\"]"
   ]
  },
  {
   "cell_type": "code",
   "execution_count": 42,
   "metadata": {},
   "outputs": [
    {
     "data": {
      "text/plain": [
       "Index(['Category', 'Resume'], dtype='object')"
      ]
     },
     "execution_count": 42,
     "metadata": {},
     "output_type": "execute_result"
    }
   ],
   "source": [
    "#Going to clean the dataset \n",
    "#LowerCase - Done\n",
    "df[\"Resume\"] = df[\"Resume\"].str.lower()\n",
    "df.columns"
   ]
  },
  {
   "cell_type": "code",
   "execution_count": 43,
   "metadata": {},
   "outputs": [
    {
     "data": {
      "text/plain": [
       "0      skills * programming languages: python (pandas...\n",
       "1      education details may 2013 may 2017 b.e uit-rg...\n",
       "2      areas interest deep learning, control system d...\n",
       "3      skills â¢ r â¢ python â¢ sap hana â¢ table...\n",
       "4      education details mca ymcaust, faridabad, hary...\n",
       "                             ...                        \n",
       "957    computer skills: â¢ proficient ms office (wor...\n",
       "958    â willingness accept challenges. â positiv...\n",
       "959    personal skills â¢ quick learner, â¢ eagerne...\n",
       "960    computer skills & software knowledge ms-power ...\n",
       "961    skill set os windows xp/7/8/8.1/10 database my...\n",
       "Name: Stopwordremoved_Resume, Length: 962, dtype: object"
      ]
     },
     "execution_count": 43,
     "metadata": {},
     "output_type": "execute_result"
    }
   ],
   "source": [
    "# #To remove stopwords \n",
    "#Stopword Removal - Done\n",
    "stop_words=set(stopwords.words('english'))\n",
    "df['Stopwordremoved_Resume'] = df['Resume'].apply(lambda x: ' '.join([word for word in x.split() if word not in stop_words]))\n",
    "df['Stopwordremoved_Resume'] \n",
    "\n"
   ]
  },
  {
   "cell_type": "code",
   "execution_count": 44,
   "metadata": {},
   "outputs": [
    {
     "data": {
      "text/html": [
       "<div>\n",
       "<style scoped>\n",
       "    .dataframe tbody tr th:only-of-type {\n",
       "        vertical-align: middle;\n",
       "    }\n",
       "\n",
       "    .dataframe tbody tr th {\n",
       "        vertical-align: top;\n",
       "    }\n",
       "\n",
       "    .dataframe thead th {\n",
       "        text-align: right;\n",
       "    }\n",
       "</style>\n",
       "<table border=\"1\" class=\"dataframe\">\n",
       "  <thead>\n",
       "    <tr style=\"text-align: right;\">\n",
       "      <th></th>\n",
       "      <th>Category</th>\n",
       "      <th>Resume</th>\n",
       "      <th>Stopwordremoved_Resume</th>\n",
       "      <th>Cleaned_Resume</th>\n",
       "    </tr>\n",
       "  </thead>\n",
       "  <tbody>\n",
       "    <tr>\n",
       "      <th>0</th>\n",
       "      <td>Data Science</td>\n",
       "      <td>skills * programming languages: python (pandas...</td>\n",
       "      <td>skills * programming languages: python (pandas...</td>\n",
       "      <td>skills  programming languages python pandas nu...</td>\n",
       "    </tr>\n",
       "    <tr>\n",
       "      <th>1</th>\n",
       "      <td>Data Science</td>\n",
       "      <td>education details \\r\\nmay 2013 to may 2017 b.e...</td>\n",
       "      <td>education details may 2013 may 2017 b.e uit-rg...</td>\n",
       "      <td>education details may 2013 may 2017 be uitrgpv...</td>\n",
       "    </tr>\n",
       "    <tr>\n",
       "      <th>2</th>\n",
       "      <td>Data Science</td>\n",
       "      <td>areas of interest deep learning, control syste...</td>\n",
       "      <td>areas interest deep learning, control system d...</td>\n",
       "      <td>areas interest deep learning control system de...</td>\n",
       "    </tr>\n",
       "    <tr>\n",
       "      <th>3</th>\n",
       "      <td>Data Science</td>\n",
       "      <td>skills â¢ r â¢ python â¢ sap hana â¢ table...</td>\n",
       "      <td>skills â¢ r â¢ python â¢ sap hana â¢ table...</td>\n",
       "      <td>skills  r  python  sap hana  tableau  sap hana...</td>\n",
       "    </tr>\n",
       "    <tr>\n",
       "      <th>4</th>\n",
       "      <td>Data Science</td>\n",
       "      <td>education details \\r\\n mca   ymcaust,  faridab...</td>\n",
       "      <td>education details mca ymcaust, faridabad, hary...</td>\n",
       "      <td>education details mca ymcaust faridabad haryan...</td>\n",
       "    </tr>\n",
       "    <tr>\n",
       "      <th>...</th>\n",
       "      <td>...</td>\n",
       "      <td>...</td>\n",
       "      <td>...</td>\n",
       "      <td>...</td>\n",
       "    </tr>\n",
       "    <tr>\n",
       "      <th>957</th>\n",
       "      <td>Testing</td>\n",
       "      <td>computer skills: â¢ proficient in ms office (...</td>\n",
       "      <td>computer skills: â¢ proficient ms office (wor...</td>\n",
       "      <td>computer skills  proficient ms office word bas...</td>\n",
       "    </tr>\n",
       "    <tr>\n",
       "      <th>958</th>\n",
       "      <td>Testing</td>\n",
       "      <td>â willingness to accept the challenges. â ...</td>\n",
       "      <td>â willingness accept challenges. â positiv...</td>\n",
       "      <td>willingness accept challenges  positive think...</td>\n",
       "    </tr>\n",
       "    <tr>\n",
       "      <th>959</th>\n",
       "      <td>Testing</td>\n",
       "      <td>personal skills â¢ quick learner, â¢ eagerne...</td>\n",
       "      <td>personal skills â¢ quick learner, â¢ eagerne...</td>\n",
       "      <td>personal skills  quick learner  eagerness lear...</td>\n",
       "    </tr>\n",
       "    <tr>\n",
       "      <th>960</th>\n",
       "      <td>Testing</td>\n",
       "      <td>computer skills &amp; software knowledge ms-power ...</td>\n",
       "      <td>computer skills &amp; software knowledge ms-power ...</td>\n",
       "      <td>computer skills  software knowledge mspower po...</td>\n",
       "    </tr>\n",
       "    <tr>\n",
       "      <th>961</th>\n",
       "      <td>Testing</td>\n",
       "      <td>skill set os windows xp/7/8/8.1/10 database my...</td>\n",
       "      <td>skill set os windows xp/7/8/8.1/10 database my...</td>\n",
       "      <td>skill set os windows xp788110 database mysql s...</td>\n",
       "    </tr>\n",
       "  </tbody>\n",
       "</table>\n",
       "<p>962 rows × 4 columns</p>\n",
       "</div>"
      ],
      "text/plain": [
       "         Category                                             Resume  \\\n",
       "0    Data Science  skills * programming languages: python (pandas...   \n",
       "1    Data Science  education details \\r\\nmay 2013 to may 2017 b.e...   \n",
       "2    Data Science  areas of interest deep learning, control syste...   \n",
       "3    Data Science  skills â¢ r â¢ python â¢ sap hana â¢ table...   \n",
       "4    Data Science  education details \\r\\n mca   ymcaust,  faridab...   \n",
       "..            ...                                                ...   \n",
       "957       Testing  computer skills: â¢ proficient in ms office (...   \n",
       "958       Testing  â willingness to accept the challenges. â ...   \n",
       "959       Testing  personal skills â¢ quick learner, â¢ eagerne...   \n",
       "960       Testing  computer skills & software knowledge ms-power ...   \n",
       "961       Testing  skill set os windows xp/7/8/8.1/10 database my...   \n",
       "\n",
       "                                Stopwordremoved_Resume  \\\n",
       "0    skills * programming languages: python (pandas...   \n",
       "1    education details may 2013 may 2017 b.e uit-rg...   \n",
       "2    areas interest deep learning, control system d...   \n",
       "3    skills â¢ r â¢ python â¢ sap hana â¢ table...   \n",
       "4    education details mca ymcaust, faridabad, hary...   \n",
       "..                                                 ...   \n",
       "957  computer skills: â¢ proficient ms office (wor...   \n",
       "958  â willingness accept challenges. â positiv...   \n",
       "959  personal skills â¢ quick learner, â¢ eagerne...   \n",
       "960  computer skills & software knowledge ms-power ...   \n",
       "961  skill set os windows xp/7/8/8.1/10 database my...   \n",
       "\n",
       "                                        Cleaned_Resume  \n",
       "0    skills  programming languages python pandas nu...  \n",
       "1    education details may 2013 may 2017 be uitrgpv...  \n",
       "2    areas interest deep learning control system de...  \n",
       "3    skills  r  python  sap hana  tableau  sap hana...  \n",
       "4    education details mca ymcaust faridabad haryan...  \n",
       "..                                                 ...  \n",
       "957  computer skills  proficient ms office word bas...  \n",
       "958   willingness accept challenges  positive think...  \n",
       "959  personal skills  quick learner  eagerness lear...  \n",
       "960  computer skills  software knowledge mspower po...  \n",
       "961  skill set os windows xp788110 database mysql s...  \n",
       "\n",
       "[962 rows x 4 columns]"
      ]
     },
     "execution_count": 44,
     "metadata": {},
     "output_type": "execute_result"
    }
   ],
   "source": [
    "# Removing the \n",
    "\n",
    "# 1.Hashtags\n",
    "# 2.Mentions\n",
    "# 3.special letters\n",
    "# 4.URLs\n",
    "# 5.Punctuations\n",
    "\n",
    "\n",
    "\n",
    "def clean_text(text):\n",
    "    text=re.sub(r'#\\S+','',text)\n",
    "    text=re.sub(r'@|S+','',text)\n",
    "    text=re.sub(r'[^a-zA-Z0-9\\s]','',text)\n",
    "    text=re.sub(r'http\\S+|www\\S+','',text)\n",
    "    text=text.translate(str.maketrans('','',string.punctuation))\n",
    "    return text\n",
    "\n",
    "df['Cleaned_Resume']=df['Stopwordremoved_Resume'].apply(clean_text)\n",
    "df"
   ]
  },
  {
   "cell_type": "code",
   "execution_count": 45,
   "metadata": {},
   "outputs": [
    {
     "data": {
      "text/html": [
       "<div>\n",
       "<style scoped>\n",
       "    .dataframe tbody tr th:only-of-type {\n",
       "        vertical-align: middle;\n",
       "    }\n",
       "\n",
       "    .dataframe tbody tr th {\n",
       "        vertical-align: top;\n",
       "    }\n",
       "\n",
       "    .dataframe thead th {\n",
       "        text-align: right;\n",
       "    }\n",
       "</style>\n",
       "<table border=\"1\" class=\"dataframe\">\n",
       "  <thead>\n",
       "    <tr style=\"text-align: right;\">\n",
       "      <th></th>\n",
       "      <th>Cleaned_Resume</th>\n",
       "      <th>Category</th>\n",
       "    </tr>\n",
       "  </thead>\n",
       "  <tbody>\n",
       "    <tr>\n",
       "      <th>0</th>\n",
       "      <td>skills  programming languages python pandas nu...</td>\n",
       "      <td>Data Science</td>\n",
       "    </tr>\n",
       "    <tr>\n",
       "      <th>1</th>\n",
       "      <td>education details may 2013 may 2017 be uitrgpv...</td>\n",
       "      <td>Data Science</td>\n",
       "    </tr>\n",
       "    <tr>\n",
       "      <th>2</th>\n",
       "      <td>areas interest deep learning control system de...</td>\n",
       "      <td>Data Science</td>\n",
       "    </tr>\n",
       "    <tr>\n",
       "      <th>3</th>\n",
       "      <td>skills  r  python  sap hana  tableau  sap hana...</td>\n",
       "      <td>Data Science</td>\n",
       "    </tr>\n",
       "    <tr>\n",
       "      <th>4</th>\n",
       "      <td>education details mca ymcaust faridabad haryan...</td>\n",
       "      <td>Data Science</td>\n",
       "    </tr>\n",
       "    <tr>\n",
       "      <th>...</th>\n",
       "      <td>...</td>\n",
       "      <td>...</td>\n",
       "    </tr>\n",
       "    <tr>\n",
       "      <th>957</th>\n",
       "      <td>computer skills  proficient ms office word bas...</td>\n",
       "      <td>Testing</td>\n",
       "    </tr>\n",
       "    <tr>\n",
       "      <th>958</th>\n",
       "      <td>willingness accept challenges  positive think...</td>\n",
       "      <td>Testing</td>\n",
       "    </tr>\n",
       "    <tr>\n",
       "      <th>959</th>\n",
       "      <td>personal skills  quick learner  eagerness lear...</td>\n",
       "      <td>Testing</td>\n",
       "    </tr>\n",
       "    <tr>\n",
       "      <th>960</th>\n",
       "      <td>computer skills  software knowledge mspower po...</td>\n",
       "      <td>Testing</td>\n",
       "    </tr>\n",
       "    <tr>\n",
       "      <th>961</th>\n",
       "      <td>skill set os windows xp788110 database mysql s...</td>\n",
       "      <td>Testing</td>\n",
       "    </tr>\n",
       "  </tbody>\n",
       "</table>\n",
       "<p>962 rows × 2 columns</p>\n",
       "</div>"
      ],
      "text/plain": [
       "                                        Cleaned_Resume      Category\n",
       "0    skills  programming languages python pandas nu...  Data Science\n",
       "1    education details may 2013 may 2017 be uitrgpv...  Data Science\n",
       "2    areas interest deep learning control system de...  Data Science\n",
       "3    skills  r  python  sap hana  tableau  sap hana...  Data Science\n",
       "4    education details mca ymcaust faridabad haryan...  Data Science\n",
       "..                                                 ...           ...\n",
       "957  computer skills  proficient ms office word bas...       Testing\n",
       "958   willingness accept challenges  positive think...       Testing\n",
       "959  personal skills  quick learner  eagerness lear...       Testing\n",
       "960  computer skills  software knowledge mspower po...       Testing\n",
       "961  skill set os windows xp788110 database mysql s...       Testing\n",
       "\n",
       "[962 rows x 2 columns]"
      ]
     },
     "execution_count": 45,
     "metadata": {},
     "output_type": "execute_result"
    }
   ],
   "source": [
    "#Created a new Dataframe Containing  the column \"Cleaned_Resume\" and adding the column \"Category\" \n",
    "cleaned_resume_df=df[['Cleaned_Resume']].copy()\n",
    "# cleaned_resume_df=df[['Category']].copy()\n",
    "cleaned_resume_df[\"Category\"]=df[\"Category\"]\n",
    "cleaned_resume_df\n"
   ]
  },
  {
   "cell_type": "code",
   "execution_count": 46,
   "metadata": {},
   "outputs": [],
   "source": [
    "#Encoding(We do encoding for label)\n",
    "le=LabelEncoder()\n",
    "le.fit(df['Category'])\n",
    "df['Category']=le.transform(df['Category'])\n"
   ]
  },
  {
   "cell_type": "code",
   "execution_count": 47,
   "metadata": {},
   "outputs": [],
   "source": [
    "#Vectorization (We do vectorization for features )\n",
    "\n",
    "Tfidf= TfidfVectorizer()\n",
    "Tfidf.fit(df['Cleaned_Resume'])\n",
    "vect_Resume=Tfidf.transform(df['Cleaned_Resume'])\n",
    "\n"
   ]
  },
  {
   "cell_type": "code",
   "execution_count": 48,
   "metadata": {},
   "outputs": [],
   "source": [
    "#Splitting data for training and testing\n",
    "X_train,X_test,y_train,y_test=train_test_split(vect_Resume,df['Category'],test_size=0.2,random_state=42)\n"
   ]
  },
  {
   "cell_type": "code",
   "execution_count": 49,
   "metadata": {},
   "outputs": [
    {
     "data": {
      "text/plain": [
       "0.9844559585492227"
      ]
     },
     "execution_count": 49,
     "metadata": {},
     "output_type": "execute_result"
    }
   ],
   "source": [
    "#Selecting the model and appling OneVsRestClassifier\n",
    "KNN=OneVsRestClassifier(KNeighborsClassifier())\n",
    "KNN.fit(X_train,y_train)\n",
    "ypred=KNN.predict(X_test)\n",
    "accuracy_score(y_test,ypred)"
   ]
  },
  {
   "cell_type": "code",
   "execution_count": 50,
   "metadata": {},
   "outputs": [],
   "source": [
    "#Creating Pickle File\n",
    "with open('Tfidf.pkl', 'wb') as f:\n",
    "    pickle.dump(Tfidf, f)\n",
    "with open('KNN.pkl', 'wb') as f:\n",
    "    pickle.dump(KNN, f)\n",
    "with open('label_encoder.pkl', 'wb') as f:\n",
    "    pickle.dump(le, f)\n"
   ]
  },
  {
   "cell_type": "code",
   "execution_count": null,
   "metadata": {},
   "outputs": [],
   "source": []
  },
  {
   "cell_type": "code",
   "execution_count": null,
   "metadata": {},
   "outputs": [],
   "source": []
  }
 ],
 "metadata": {
  "kernelspec": {
   "display_name": "Python 3",
   "language": "python",
   "name": "python3"
  },
  "language_info": {
   "codemirror_mode": {
    "name": "ipython",
    "version": 3
   },
   "file_extension": ".py",
   "mimetype": "text/x-python",
   "name": "python",
   "nbconvert_exporter": "python",
   "pygments_lexer": "ipython3",
   "version": "3.12.6"
  }
 },
 "nbformat": 4,
 "nbformat_minor": 2
}
